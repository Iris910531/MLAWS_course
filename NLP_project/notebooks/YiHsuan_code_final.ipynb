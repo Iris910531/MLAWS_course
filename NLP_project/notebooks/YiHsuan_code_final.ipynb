{
 "cells": [
  {
   "cell_type": "markdown",
   "id": "d846dab6-443b-4643-ace5-8d7732961052",
   "metadata": {},
   "source": [
    "# Topic: Identifying Helpful and Representative Reviews Using Machine Learning\n",
    "\n",
    "### Objective\n",
    "This project aims to assess the helpfulness of product reviews on Amazon by combining textual analysis, metadata engineering, and machine learning. Specifically, we focus on:\n",
    "\n",
    "- Predicting whether a review is helpful (HelpfulBinary) using XGBClassifier.\n",
    "- Identifying the most representative review per product using BERT-based semantic similarity.\n",
    "- Evaluating whether these representative reviews tend to be helpful\n",
    "\n",
    "### Dataset\n",
    "The dataset consists of Amazon product reviews, with fields including review text, timestamp, score, and helpfulness information (numerator and denominator). Reviews without any helpfulness votes were flagged and separated for later prediction.\n",
    "https://www.kaggle.com/datasets/snap/amazon-fine-food-reviews\n",
    "\n",
    "### Key Steps\n",
    "1. Data Cleaning and Feature Engineering\n",
    "\n",
    "- Created a helpfulness_ratio (numerator / denominator).\n",
    "\n",
    "- Flagged reviews with zero denominator as no_helpfulness for later use.\n",
    "\n",
    "- Generated a binary label HelpfulBinary (1 if ratio > 0.5, else 0).\n",
    "\n",
    "- Created recency weights based on review timestamps.\n",
    "\n",
    "- Cleaned review text using tokenization, stopword removal, and lemmatization.\n",
    "\n",
    "2. Representativeness Scoring\n",
    "\n",
    "- Used a pre-trained BERT model to compute cosine similarity of each review against others within the same product.\n",
    "\n",
    "- Assigned a cosine_avg_sim score to quantify how representative a review is.\n",
    "\n",
    "- Selected the most representative review per product based on this score.\n",
    "\n",
    "3. Dimensionally reduction -- SVD\n",
    "- Compress the TF-IDF features into 100 dimensions using TruncatedSVD\n",
    "\n",
    "- Apply standardization (StandardScaler) to ensure that all features are on the same scale.\n",
    "\n",
    "\n",
    "4. Model Training\n",
    "\n",
    "- Trained an XGBoost classifier to predict HelpfulBinary using TF-IDF text features, cosine_avg_sim, and recency_weight.\n",
    "- Built scale_pos_weight to solve imbalanced problem\n",
    "\n",
    "- For data with SVD, achieved approximately 85% accuracy on the test set.\n",
    "- For data without SVD, achieved approximately 79% accuracy on the test set.\n",
    "\n",
    "5. Post-Training Analysis\n",
    "\n",
    "- Applied the trained model_svd to reviews that lacked helpfulness labels (zero denominator).\n",
    "\n",
    "- Analyzed whether the most representative reviews (for each product) were predicted to be helpful.\n",
    "\n",
    "- Compared the helpfulness of Most representative reviews, all reviews, and random reviews (1 per product)\n",
    "\n",
    "- Representative reviews are truly more useful\n",
    "\n",
    "### Key Takeaways\n",
    "\n",
    "- Semantic similarity is a strong signal of review quality.\n",
    "- Machine learning can effectively predict helpfulness, even in the absence of user votes.\n",
    "- Most representative reviews are not only central in meaning—but often truly helpful.\n",
    "\n",
    "### Conclusion\n",
    "This project demonstrates a hybrid approach: combining semantic similarity (BERT-based) with traditional supervised learning to enhance review helpfulness prediction. It also highlights the practical value of identifying \"representative reviews\" to improve user experience in platforms like e-commerce or review aggregators."
   ]
  },
  {
   "cell_type": "markdown",
   "id": "0cc0bfe1-d5de-4f99-a5db-a904ca0e6b48",
   "metadata": {},
   "source": [
    "## import and install pakages"
   ]
  },
  {
   "cell_type": "code",
   "execution_count": 5,
   "id": "728f46f9-5a0b-4d9b-96fb-9f5551eac8d7",
   "metadata": {},
   "outputs": [],
   "source": [
    "#!pip install datasets -U transformers -U sentence_transformers pandas scikit-learn nltk xgboost -U transformers"
   ]
  },
  {
   "cell_type": "code",
   "execution_count": 4,
   "id": "bb8eb39c-3b63-4a26-bef1-f7326a069518",
   "metadata": {},
   "outputs": [],
   "source": [
    "import numpy as np\n",
    "from sentence_transformers import SentenceTransformer\n",
    "from sklearn.metrics.pairwise import cosine_similarity\n",
    "import pandas as pd\n",
    "import seaborn as sns\n",
    "import matplotlib.pyplot as plt\n",
    "from scipy.sparse import hstack\n",
    "\n",
    "# for S3\n",
    "import hashlib\n",
    "import boto3\n",
    "from botocore.exceptions import NoCredentialsError, PartialCredentialsError\n",
    "\n",
    "## for cosine_similarity\n",
    "from sentence_transformers import SentenceTransformer\n",
    "from sklearn.metrics.pairwise import cosine_similarity\n",
    "import numpy as np\n",
    "import pandas as pd\n",
    "from tqdm import tqdm\n",
    "import csv\n",
    "import os"
   ]
  },
  {
   "cell_type": "markdown",
   "id": "566953f2-ea61-4e70-ab41-b3ac80106411",
   "metadata": {},
   "source": [
    "## Upload to S3"
   ]
  },
  {
   "cell_type": "code",
   "execution_count": 3,
   "id": "d6fbb5bb-cd7d-4568-89ef-59b741fbf5e7",
   "metadata": {},
   "outputs": [],
   "source": [
    "# Initialize S3 Client\n",
    "s3 = boto3.client(\"s3\")\n",
    "bucket_name = \"is597-group10\"  # bucket name\n",
    "region = \"us-east-1\"  # AWS region"
   ]
  },
  {
   "cell_type": "code",
   "execution_count": 4,
   "id": "466de6f4-6240-4eae-b1d3-ff82a45aaa96",
   "metadata": {},
   "outputs": [],
   "source": [
    "def print_result_1(message):\n",
    "    print(\"=\" * 80)\n",
    "    print(message)\n",
    "    print(\"=\" * 80)"
   ]
  },
  {
   "cell_type": "code",
   "execution_count": 5,
   "id": "f4ad52c8-c9d0-48e0-b888-f0111ab3cec1",
   "metadata": {},
   "outputs": [
    {
     "name": "stdout",
     "output_type": "stream",
     "text": [
      "================================================================================\n",
      "File 'Reviews.csv' uploaded as 'data/Reviews.csv'.\n",
      "================================================================================\n"
     ]
    }
   ],
   "source": [
    "file_path = \"Reviews.csv\"  # Replace with a local file path\n",
    "object_key = \"data/Reviews.csv\"\n",
    "\n",
    "# Upload an Object\n",
    "try:\n",
    "    s3.upload_file(file_path, bucket_name, object_key)\n",
    "    print_result_1(f\"File '{file_path}' uploaded as '{object_key}'.\")\n",
    "except FileNotFoundError:\n",
    "    print(\"The file was not found.\")\n",
    "except NoCredentialsError:\n",
    "    print(\"Credentials not available.\")"
   ]
  },
  {
   "cell_type": "markdown",
   "id": "53d16746-ab7c-4b0c-a160-ceb22ca1ef8e",
   "metadata": {},
   "source": [
    "## Fetches data directly from S3 to use cleaned data"
   ]
  },
  {
   "cell_type": "code",
   "execution_count": 6,
   "id": "13159b10-ea36-4f0b-8a4c-3ae06c726ed7",
   "metadata": {},
   "outputs": [
    {
     "name": "stdout",
     "output_type": "stream",
     "text": [
      "File 'data/Reviews.csv' downloaded to 'Reviews.csv'.\n"
     ]
    }
   ],
   "source": [
    "download_path = \"Reviews.csv\"\n",
    "object_key = \"data/Reviews.csv\"\n",
    "try:\n",
    "    s3.download_file(bucket_name, object_key, download_path)\n",
    "    print(f\"File '{object_key}' downloaded to '{download_path}'.\")\n",
    "except Exception as e:\n",
    "    print(f\"Error downloading file: {e}\")"
   ]
  },
  {
   "cell_type": "markdown",
   "id": "f247fac7-9789-4a14-800a-7a05efe8d624",
   "metadata": {},
   "source": [
    "## Data Loading and Cleaning\n",
    "\n",
    "We begin by loading the dataset, handling duplicates, and converting the review timestamps into a numerical format for recency analysis.\n"
   ]
  },
  {
   "cell_type": "code",
   "execution_count": 7,
   "id": "9c7b1d9a-805c-4a7e-a863-21b4370a0068",
   "metadata": {},
   "outputs": [],
   "source": [
    "df = pd.read_csv('Reviews.csv')"
   ]
  },
  {
   "cell_type": "code",
   "execution_count": 8,
   "id": "5a6d0519-74c2-4f94-bd56-e512b6c0cf79",
   "metadata": {},
   "outputs": [
    {
     "data": {
      "text/plain": [
       "Id                         0\n",
       "ProductId                  0\n",
       "UserId                     0\n",
       "ProfileName               26\n",
       "HelpfulnessNumerator       0\n",
       "HelpfulnessDenominator     0\n",
       "Score                      0\n",
       "Time                       0\n",
       "Summary                   27\n",
       "Text                       0\n",
       "dtype: int64"
      ]
     },
     "execution_count": 8,
     "metadata": {},
     "output_type": "execute_result"
    }
   ],
   "source": [
    "#Missing values\n",
    "df.isnull().sum()"
   ]
  },
  {
   "cell_type": "code",
   "execution_count": 9,
   "id": "717c9643-5eeb-484d-b587-a50fb3092dfe",
   "metadata": {},
   "outputs": [],
   "source": [
    "# Filling missing values\n",
    "df['ProfileName'].fillna('Unavailable')\n",
    "df.drop(columns='Summary',inplace=True)"
   ]
  },
  {
   "cell_type": "code",
   "execution_count": 10,
   "id": "5060d8f2-10fb-44da-91e6-f158aec15e71",
   "metadata": {},
   "outputs": [],
   "source": [
    "# remove duplications\n",
    "df.drop_duplicates(inplace=True)\n",
    "df = df.dropna(subset=['Text'])"
   ]
  },
  {
   "cell_type": "markdown",
   "id": "c7f7e6e2",
   "metadata": {},
   "source": [
    "### Recency Weight Calculation\n",
    "\n",
    "To prioritize newer reviews, we compute a **recency weight** based on the date of each review:\n",
    "\n",
    "- First, calculate the number of days since each review:\n",
    "\n",
    "  ![formula1](formula1.png)\n",
    "\n",
    "- Then, compute the recency weight:\n",
    "\n",
    "  ![formula1](formula2.png)\n",
    "\n",
    "**Interpretation:**\n",
    "- **Newer reviews** (smaller days\\_since) will have a **higher weight**.\n",
    "- **Older reviews** (larger days\\_since) will have a **lower weight**.\n",
    "- Adding \\( +1 \\) in the denominator prevents division by zero and stabilizes the calculation.\n",
    "\n",
    "This method ensures that **recent reviews contribute more** when training and prediction models.\n"
   ]
  },
  {
   "cell_type": "code",
   "execution_count": 11,
   "id": "c93a3a6b-79a8-403e-b9b3-845ab0383ee9",
   "metadata": {},
   "outputs": [],
   "source": [
    "# time preprocessing\n",
    "df['Time'] = pd.to_datetime(df['Time'], unit='s')\n",
    "latest_date = df['Time'].max()\n",
    "df['days_since'] = (latest_date - df['Time']).dt.days\n",
    "df['recency_weight'] = 1 / (df['days_since'] + 1)"
   ]
  },
  {
   "cell_type": "code",
   "execution_count": 12,
   "id": "bcbbf6a5-79f5-4f85-9659-542e4f6b3bbe",
   "metadata": {},
   "outputs": [],
   "source": [
    "# make ReviewIdx for furthering usage\n",
    "df['ReviewIdx'] = df.groupby(\"ProductId\").cumcount()\n",
    "\n",
    "# We create a helpfulness ratio and define a binary label `HelpfulBinary`. Reviews with zero helpfulness votes are also flagged.\n",
    "df['helpfulness_ratio'] = df['HelpfulnessNumerator'] / df['HelpfulnessDenominator']\n",
    "df['HelpfulBinary'] = (df['helpfulness_ratio'] > 0.5).astype(int)\n",
    "\n"
   ]
  },
  {
   "cell_type": "code",
   "execution_count": 13,
   "id": "9775398c-dc5a-4bd0-9848-34114a19c850",
   "metadata": {},
   "outputs": [
    {
     "data": {
      "image/png": "[encoded data removed]",
      "text/plain": [
       "<Figure size 640x480 with 1 Axes>"
      ]
     },
     "metadata": {},
     "output_type": "display_data"
    }
   ],
   "source": [
    "sns.countplot(data=df, x='HelpfulBinary')\n",
    "plt.title(\"HelpfulBinary is Imbalanced or not?\")\n",
    "plt.xlabel(\"HelpfulBinary (0=No, 1=Yes)\")\n",
    "plt.ylabel(\"Count\")\n",
    "plt.show()\n"
   ]
  },
  {
   "cell_type": "markdown",
   "id": "eb019a60",
   "metadata": {},
   "source": [
    "It's slightly imbalanced, we'll solve imbalanced problem in model training step."
   ]
  },
  {
   "cell_type": "code",
   "execution_count": 14,
   "id": "4ba0d397-7723-4f50-9a69-99c30ecc8e8f",
   "metadata": {},
   "outputs": [
    {
     "data": {
      "text/plain": [
       "HelpfulBinary\n",
       "1    226666\n",
       "0     71736\n",
       "Name: count, dtype: int64"
      ]
     },
     "execution_count": 14,
     "metadata": {},
     "output_type": "execute_result"
    }
   ],
   "source": [
    "df[df['HelpfulnessDenominator'] > 0][\"HelpfulBinary\"].value_counts()"
   ]
  },
  {
   "cell_type": "code",
   "execution_count": 15,
   "id": "596ea4c2-357a-4b31-ba2b-ea43ad50ad30",
   "metadata": {},
   "outputs": [
    {
     "data": {
      "text/plain": [
       "568454"
      ]
     },
     "execution_count": 15,
     "metadata": {},
     "output_type": "execute_result"
    }
   ],
   "source": [
    "len(df)"
   ]
  },
  {
   "cell_type": "code",
   "execution_count": 16,
   "id": "2b821256-150c-4b23-b459-08198e7ffd29",
   "metadata": {},
   "outputs": [
    {
     "data": {
      "text/plain": [
       "74258"
      ]
     },
     "execution_count": 16,
     "metadata": {},
     "output_type": "execute_result"
    }
   ],
   "source": [
    "len(df[\"ProductId\"].unique())"
   ]
  },
  {
   "cell_type": "code",
   "execution_count": 17,
   "id": "bb899d2c-6268-4227-b76d-cfe3832eec9b",
   "metadata": {},
   "outputs": [
    {
     "data": {
      "text/plain": [
       "24739"
      ]
     },
     "execution_count": 17,
     "metadata": {},
     "output_type": "execute_result"
    }
   ],
   "source": [
    "# Among 568454 products review, has 74258 products, but only 24739 products have more than three reviews\n",
    "(df[\"ProductId\"].value_counts() > 3).sum()"
   ]
  },
  {
   "cell_type": "markdown",
   "id": "2caf5734-a147-4799-84a0-dec88894b5c1",
   "metadata": {},
   "source": [
    "It suggests that among 568454 products review, has 74258 products, but only 24739 products have more than three reviews"
   ]
  },
  {
   "cell_type": "code",
   "execution_count": 18,
   "id": "54462aeb-4005-4a85-9ad9-7c47965b7c1c",
   "metadata": {},
   "outputs": [
    {
     "data": {
      "text/html": [
       "<div>\n",
       "<style scoped>\n",
       "    .dataframe tbody tr th:only-of-type {\n",
       "        vertical-align: middle;\n",
       "    }\n",
       "\n",
       "    .dataframe tbody tr th {\n",
       "        vertical-align: top;\n",
       "    }\n",
       "\n",
       "    .dataframe thead th {\n",
       "        text-align: right;\n",
       "    }\n",
       "</style>\n",
       "<table border=\"1\" class=\"dataframe\">\n",
       "  <thead>\n",
       "    <tr style=\"text-align: right;\">\n",
       "      <th></th>\n",
       "      <th>ProductId</th>\n",
       "      <th>Text</th>\n",
       "      <th>helpfulness_ratio</th>\n",
       "      <th>recency_weight</th>\n",
       "      <th>Time</th>\n",
       "      <th>HelpfulBinary</th>\n",
       "      <th>ReviewIdx</th>\n",
       "    </tr>\n",
       "  </thead>\n",
       "  <tbody>\n",
       "    <tr>\n",
       "      <th>0</th>\n",
       "      <td>B001E4KFG0</td>\n",
       "      <td>I have bought several of the Vitality canned d...</td>\n",
       "      <td>1.0</td>\n",
       "      <td>0.001821</td>\n",
       "      <td>2011-04-27</td>\n",
       "      <td>1</td>\n",
       "      <td>0</td>\n",
       "    </tr>\n",
       "    <tr>\n",
       "      <th>1</th>\n",
       "      <td>B00813GRG4</td>\n",
       "      <td>Product arrived labeled as Jumbo Salted Peanut...</td>\n",
       "      <td>NaN</td>\n",
       "      <td>0.020000</td>\n",
       "      <td>2012-09-07</td>\n",
       "      <td>0</td>\n",
       "      <td>0</td>\n",
       "    </tr>\n",
       "    <tr>\n",
       "      <th>2</th>\n",
       "      <td>B000LQOCH0</td>\n",
       "      <td>This is a confection that has been around a fe...</td>\n",
       "      <td>1.0</td>\n",
       "      <td>0.000653</td>\n",
       "      <td>2008-08-18</td>\n",
       "      <td>1</td>\n",
       "      <td>0</td>\n",
       "    </tr>\n",
       "    <tr>\n",
       "      <th>3</th>\n",
       "      <td>B000UA0QIQ</td>\n",
       "      <td>If you are looking for the secret ingredient i...</td>\n",
       "      <td>1.0</td>\n",
       "      <td>0.001992</td>\n",
       "      <td>2011-06-13</td>\n",
       "      <td>1</td>\n",
       "      <td>0</td>\n",
       "    </tr>\n",
       "    <tr>\n",
       "      <th>4</th>\n",
       "      <td>B006K2ZZ7K</td>\n",
       "      <td>Great taffy at a great price.  There was a wid...</td>\n",
       "      <td>NaN</td>\n",
       "      <td>0.166667</td>\n",
       "      <td>2012-10-21</td>\n",
       "      <td>0</td>\n",
       "      <td>0</td>\n",
       "    </tr>\n",
       "  </tbody>\n",
       "</table>\n",
       "</div>"
      ],
      "text/plain": [
       "    ProductId                                               Text  \\\n",
       "0  B001E4KFG0  I have bought several of the Vitality canned d...   \n",
       "1  B00813GRG4  Product arrived labeled as Jumbo Salted Peanut...   \n",
       "2  B000LQOCH0  This is a confection that has been around a fe...   \n",
       "3  B000UA0QIQ  If you are looking for the secret ingredient i...   \n",
       "4  B006K2ZZ7K  Great taffy at a great price.  There was a wid...   \n",
       "\n",
       "   helpfulness_ratio  recency_weight       Time  HelpfulBinary  ReviewIdx  \n",
       "0                1.0        0.001821 2011-04-27              1          0  \n",
       "1                NaN        0.020000 2012-09-07              0          0  \n",
       "2                1.0        0.000653 2008-08-18              1          0  \n",
       "3                1.0        0.001992 2011-06-13              1          0  \n",
       "4                NaN        0.166667 2012-10-21              0          0  "
      ]
     },
     "execution_count": 18,
     "metadata": {},
     "output_type": "execute_result"
    }
   ],
   "source": [
    "df = df[['ProductId', 'Text', 'helpfulness_ratio', 'recency_weight', 'Time', 'HelpfulBinary', 'ReviewIdx']]\n",
    "#df_unlabeled = df_unlabeled[['ProductId', 'Text', 'recency_weight', 'Time', 'ReviewIdx']].dropna()\n",
    "df.head()"
   ]
  },
  {
   "cell_type": "code",
   "execution_count": 19,
   "id": "c50d3ad0-aa3c-4042-8032-b1a791d618c2",
   "metadata": {},
   "outputs": [
    {
     "data": {
      "text/plain": [
       "568454"
      ]
     },
     "execution_count": 19,
     "metadata": {},
     "output_type": "execute_result"
    }
   ],
   "source": [
    "len(df)"
   ]
  },
  {
   "cell_type": "markdown",
   "id": "fbc93952-a2d7-4662-8802-c6d16f63efab",
   "metadata": {},
   "source": [
    "# Find most representative review by calculate semantic Representativeness (cosine_avg_sim)\n",
    "Using `sentence-transformers`, we compute the average cosine similarity of each review to other reviews within the same product. This represents how \"representative\" each review is in its group."
   ]
  },
  {
   "cell_type": "code",
   "execution_count": 20,
   "id": "8f789210-f381-4f2b-b122-b0a7e2282ef9",
   "metadata": {},
   "outputs": [
    {
     "name": "stderr",
     "output_type": "stream",
     "text": [
      "100%|██████████| 24739/24739 [00:00<00:00, 33982.52it/s]\n"
     ]
    }
   ],
   "source": [
    "# Optimized Version: Incremental writing with automatic checkpoint recovery \n",
    "#(to prevent kernel crashes and allow seamless restarts)\n",
    "# I do it while there's no no_helpfulness column. That is, I run the algorithm for all dataset.\n",
    "\n",
    "#  Filter and keep only products with more than 3 reviews\n",
    "pid_counts = df['ProductId'].value_counts()\n",
    "df_filtered = df[df['ProductId'].isin(pid_counts[pid_counts > 3].index)].copy()\n",
    "\n",
    "# Initialize the BERT model\n",
    "model = SentenceTransformer(\"all-MiniLM-L6-v2\")\n",
    "\n",
    "# Attempt to load existing results to chek with ProducIds have already been processed\n",
    "done_pids = set()\n",
    "if os.path.exists(\"cosine_avg_sim_results.csv\"):\n",
    "    try:\n",
    "        done_df = pd.read_csv(\"cosine_avg_sim_results.csv\")\n",
    "        done_pids = set(done_df['ProductId'].unique())\n",
    "    except:\n",
    "        pass\n",
    "\n",
    "# Write to file in append mode(without overwriting existing data)\n",
    "with open(\"cosine_avg_sim_results.csv\", \"a\", newline=\"\") as f:\n",
    "    writer = csv.writer(f)\n",
    "    if os.stat(\"cosine_avg_sim_results.csv\").st_size == 0:\n",
    "        writer.writerow([\"ProductId\", \"ReviewIdx\", \"cosine_avg_sim\"])\n",
    "\n",
    "    for pid, group in tqdm(df_filtered.groupby(\"ProductId\")):\n",
    "        if pid in done_pids:\n",
    "            continue  # Skip products that have already been processed\n",
    "\n",
    "        texts = group[\"Text\"].fillna(\"\").tolist()\n",
    "        if len(texts) < 3:\n",
    "            for i in range(len(texts)):\n",
    "                writer.writerow([pid, i, 0])\n",
    "            continue\n",
    "\n",
    "        embeddings = model.encode(texts, batch_size=32, show_progress_bar=False)\n",
    "        sim_matrix = cosine_similarity(embeddings)\n",
    "        avg_sim = sim_matrix.mean(axis=1)\n",
    "\n",
    "        for i, sim in enumerate(avg_sim):\n",
    "            writer.writerow([pid, i, sim])\n"
   ]
  },
  {
   "cell_type": "code",
   "execution_count": 21,
   "id": "f5d2c4c1-7524-4d3e-97a7-e84c91514540",
   "metadata": {},
   "outputs": [
    {
     "data": {
      "text/html": [
       "<div>\n",
       "<style scoped>\n",
       "    .dataframe tbody tr th:only-of-type {\n",
       "        vertical-align: middle;\n",
       "    }\n",
       "\n",
       "    .dataframe tbody tr th {\n",
       "        vertical-align: top;\n",
       "    }\n",
       "\n",
       "    .dataframe thead th {\n",
       "        text-align: right;\n",
       "    }\n",
       "</style>\n",
       "<table border=\"1\" class=\"dataframe\">\n",
       "  <thead>\n",
       "    <tr style=\"text-align: right;\">\n",
       "      <th></th>\n",
       "      <th>ProductId</th>\n",
       "      <th>Text</th>\n",
       "      <th>helpfulness_ratio</th>\n",
       "      <th>recency_weight</th>\n",
       "      <th>Time</th>\n",
       "      <th>HelpfulBinary</th>\n",
       "      <th>ReviewIdx</th>\n",
       "      <th>cosine_avg_sim</th>\n",
       "    </tr>\n",
       "  </thead>\n",
       "  <tbody>\n",
       "    <tr>\n",
       "      <th>0</th>\n",
       "      <td>B006K2ZZ7K</td>\n",
       "      <td>Great taffy at a great price.  There was a wid...</td>\n",
       "      <td>NaN</td>\n",
       "      <td>0.166667</td>\n",
       "      <td>2012-10-21</td>\n",
       "      <td>0</td>\n",
       "      <td>0</td>\n",
       "      <td>0.780390</td>\n",
       "    </tr>\n",
       "    <tr>\n",
       "      <th>1</th>\n",
       "      <td>B006K2ZZ7K</td>\n",
       "      <td>I got a wild hair for taffy and ordered this f...</td>\n",
       "      <td>NaN</td>\n",
       "      <td>0.009346</td>\n",
       "      <td>2012-07-12</td>\n",
       "      <td>0</td>\n",
       "      <td>1</td>\n",
       "      <td>0.767893</td>\n",
       "    </tr>\n",
       "    <tr>\n",
       "      <th>2</th>\n",
       "      <td>B006K2ZZ7K</td>\n",
       "      <td>This saltwater taffy had great flavors and was...</td>\n",
       "      <td>NaN</td>\n",
       "      <td>0.007752</td>\n",
       "      <td>2012-06-20</td>\n",
       "      <td>0</td>\n",
       "      <td>2</td>\n",
       "      <td>0.758171</td>\n",
       "    </tr>\n",
       "    <tr>\n",
       "      <th>3</th>\n",
       "      <td>B006K2ZZ7K</td>\n",
       "      <td>This taffy is so good.  It is very soft and ch...</td>\n",
       "      <td>NaN</td>\n",
       "      <td>0.005650</td>\n",
       "      <td>2012-05-03</td>\n",
       "      <td>0</td>\n",
       "      <td>3</td>\n",
       "      <td>0.802068</td>\n",
       "    </tr>\n",
       "    <tr>\n",
       "      <th>4</th>\n",
       "      <td>B001GVISJM</td>\n",
       "      <td>good flavor! these came securely packed... the...</td>\n",
       "      <td>1.0</td>\n",
       "      <td>0.001385</td>\n",
       "      <td>2010-11-05</td>\n",
       "      <td>1</td>\n",
       "      <td>0</td>\n",
       "      <td>0.500299</td>\n",
       "    </tr>\n",
       "    <tr>\n",
       "      <th>...</th>\n",
       "      <td>...</td>\n",
       "      <td>...</td>\n",
       "      <td>...</td>\n",
       "      <td>...</td>\n",
       "      <td>...</td>\n",
       "      <td>...</td>\n",
       "      <td>...</td>\n",
       "      <td>...</td>\n",
       "    </tr>\n",
       "    <tr>\n",
       "      <th>492913</th>\n",
       "      <td>B001EO7N10</td>\n",
       "      <td>You can make this mix yourself, but the Star A...</td>\n",
       "      <td>1.0</td>\n",
       "      <td>0.001037</td>\n",
       "      <td>2010-03-08</td>\n",
       "      <td>1</td>\n",
       "      <td>1</td>\n",
       "      <td>0.491456</td>\n",
       "    </tr>\n",
       "    <tr>\n",
       "      <th>492914</th>\n",
       "      <td>B001EO7N10</td>\n",
       "      <td>I had ordered some of these a few months back ...</td>\n",
       "      <td>NaN</td>\n",
       "      <td>0.003861</td>\n",
       "      <td>2012-02-11</td>\n",
       "      <td>0</td>\n",
       "      <td>2</td>\n",
       "      <td>0.489004</td>\n",
       "    </tr>\n",
       "    <tr>\n",
       "      <th>492915</th>\n",
       "      <td>B001EO7N10</td>\n",
       "      <td>Hoping there is no MSG in this, this tastes ex...</td>\n",
       "      <td>NaN</td>\n",
       "      <td>0.003003</td>\n",
       "      <td>2011-11-29</td>\n",
       "      <td>0</td>\n",
       "      <td>3</td>\n",
       "      <td>0.538320</td>\n",
       "    </tr>\n",
       "    <tr>\n",
       "      <th>492916</th>\n",
       "      <td>B001EO7N10</td>\n",
       "      <td>My only complaint is that there's so much of i...</td>\n",
       "      <td>NaN</td>\n",
       "      <td>0.002000</td>\n",
       "      <td>2011-06-15</td>\n",
       "      <td>0</td>\n",
       "      <td>4</td>\n",
       "      <td>0.504481</td>\n",
       "    </tr>\n",
       "    <tr>\n",
       "      <th>492917</th>\n",
       "      <td>B001EO7N10</td>\n",
       "      <td>Great for sesame chicken..this is a good if no...</td>\n",
       "      <td>NaN</td>\n",
       "      <td>0.001672</td>\n",
       "      <td>2011-03-09</td>\n",
       "      <td>0</td>\n",
       "      <td>5</td>\n",
       "      <td>0.476320</td>\n",
       "    </tr>\n",
       "  </tbody>\n",
       "</table>\n",
       "<p>492918 rows × 8 columns</p>\n",
       "</div>"
      ],
      "text/plain": [
       "         ProductId                                               Text  \\\n",
       "0       B006K2ZZ7K  Great taffy at a great price.  There was a wid...   \n",
       "1       B006K2ZZ7K  I got a wild hair for taffy and ordered this f...   \n",
       "2       B006K2ZZ7K  This saltwater taffy had great flavors and was...   \n",
       "3       B006K2ZZ7K  This taffy is so good.  It is very soft and ch...   \n",
       "4       B001GVISJM  good flavor! these came securely packed... the...   \n",
       "...            ...                                                ...   \n",
       "492913  B001EO7N10  You can make this mix yourself, but the Star A...   \n",
       "492914  B001EO7N10  I had ordered some of these a few months back ...   \n",
       "492915  B001EO7N10  Hoping there is no MSG in this, this tastes ex...   \n",
       "492916  B001EO7N10  My only complaint is that there's so much of i...   \n",
       "492917  B001EO7N10  Great for sesame chicken..this is a good if no...   \n",
       "\n",
       "        helpfulness_ratio  recency_weight       Time  HelpfulBinary  \\\n",
       "0                     NaN        0.166667 2012-10-21              0   \n",
       "1                     NaN        0.009346 2012-07-12              0   \n",
       "2                     NaN        0.007752 2012-06-20              0   \n",
       "3                     NaN        0.005650 2012-05-03              0   \n",
       "4                     1.0        0.001385 2010-11-05              1   \n",
       "...                   ...             ...        ...            ...   \n",
       "492913                1.0        0.001037 2010-03-08              1   \n",
       "492914                NaN        0.003861 2012-02-11              0   \n",
       "492915                NaN        0.003003 2011-11-29              0   \n",
       "492916                NaN        0.002000 2011-06-15              0   \n",
       "492917                NaN        0.001672 2011-03-09              0   \n",
       "\n",
       "        ReviewIdx  cosine_avg_sim  \n",
       "0               0        0.780390  \n",
       "1               1        0.767893  \n",
       "2               2        0.758171  \n",
       "3               3        0.802068  \n",
       "4               0        0.500299  \n",
       "...           ...             ...  \n",
       "492913          1        0.491456  \n",
       "492914          2        0.489004  \n",
       "492915          3        0.538320  \n",
       "492916          4        0.504481  \n",
       "492917          5        0.476320  \n",
       "\n",
       "[492918 rows x 8 columns]"
      ]
     },
     "execution_count": 21,
     "metadata": {},
     "output_type": "execute_result"
    }
   ],
   "source": [
    "df_filtered = pd.read_csv(\"cosine_avg_sim_results.csv\")\n",
    "\n",
    "# merge ProductId + ReviewIdx \n",
    "merged_df = df.merge(df_filtered, on=['ProductId', 'ReviewIdx'], how='left')\n",
    "merged_df = merged_df.dropna(subset=['cosine_avg_sim']).reset_index(drop=True)\n",
    "merged_df"
   ]
  },
  {
   "cell_type": "code",
   "execution_count": 22,
   "id": "59d9ae3b-3513-4670-bb14-3d56a6278ebb",
   "metadata": {},
   "outputs": [
    {
     "data": {
      "text/html": [
       "<div>\n",
       "<style scoped>\n",
       "    .dataframe tbody tr th:only-of-type {\n",
       "        vertical-align: middle;\n",
       "    }\n",
       "\n",
       "    .dataframe tbody tr th {\n",
       "        vertical-align: top;\n",
       "    }\n",
       "\n",
       "    .dataframe thead th {\n",
       "        text-align: right;\n",
       "    }\n",
       "</style>\n",
       "<table border=\"1\" class=\"dataframe\">\n",
       "  <thead>\n",
       "    <tr style=\"text-align: right;\">\n",
       "      <th></th>\n",
       "      <th>ProductId</th>\n",
       "      <th>Text</th>\n",
       "      <th>cosine_avg_sim</th>\n",
       "    </tr>\n",
       "  </thead>\n",
       "  <tbody>\n",
       "    <tr>\n",
       "      <th>0</th>\n",
       "      <td>B006K2ZZ7K</td>\n",
       "      <td>I got a wild hair for taffy and ordered this five pound bag. The taffy was all very enjoyable with many flavors: watermelon, root beer, melon, peppermint, grape, etc. My only complaint is there was a bit too much red/black licorice-flavored pieces (just not my particular favorites). Between me, my kids, and my husband, this lasted only two weeks! I would recommend this brand of taffy -- it was a delightful treat.</td>\n",
       "      <td>0.767893</td>\n",
       "    </tr>\n",
       "    <tr>\n",
       "      <th>1</th>\n",
       "      <td>B001UJEN6C</td>\n",
       "      <td>I have tried other energy shots and this one is the only one that really makes me feel good and energized without any other sides effects at all, its also the best taste, others taste like medicine, this one has a tea fresh taste. I love it.</td>\n",
       "      <td>0.637572</td>\n",
       "    </tr>\n",
       "    <tr>\n",
       "      <th>2</th>\n",
       "      <td>B000G6RYNE</td>\n",
       "      <td>These potato chips are excellent.There are no trans fats.&lt;br /&gt;&lt;br /&gt;They taste absolutely delicious.Whenever I am in the mood for potatoe chips, Kettles is the brand I buy.&lt;br /&gt;&lt;br /&gt;A great product that anyone should enjoy and I highly recommend them!&lt;br /&gt;&lt;br /&gt;Enjoy!</td>\n",
       "      <td>0.413247</td>\n",
       "    </tr>\n",
       "    <tr>\n",
       "      <th>3</th>\n",
       "      <td>B000G6RYNE</td>\n",
       "      <td>These chips are nasty.  I thought someone had spilled a drink in the bag, no the chips were just soaked with grease.  Nasty!!</td>\n",
       "      <td>0.519838</td>\n",
       "    </tr>\n",
       "    <tr>\n",
       "      <th>4</th>\n",
       "      <td>B000G6RYNE</td>\n",
       "      <td>I bought these when on sale through Amazon.  Nice crispy thick chips.  Definitely a great buy if you can catch them on sale.</td>\n",
       "      <td>0.543350</td>\n",
       "    </tr>\n",
       "    <tr>\n",
       "      <th>5</th>\n",
       "      <td>B0030C9A60</td>\n",
       "      <td>I bought these chocolate liquor cups for a party! It was a big hit. They are high quality and a good buy.</td>\n",
       "      <td>0.754287</td>\n",
       "    </tr>\n",
       "    <tr>\n",
       "      <th>6</th>\n",
       "      <td>B001GCVLXG</td>\n",
       "      <td>If you like Shortbread you will really like these. Walkers always makes the best Shortbread.&lt;br /&gt;&lt;a href=\"http://www.amazon.com/gp/product/B001GCVLXG\"&gt;Walkers Shortbread Highlander Shortbread Portion Pack, 1.4 Ounce Units (Pack of 24)&lt;/a&gt;</td>\n",
       "      <td>0.630456</td>\n",
       "    </tr>\n",
       "    <tr>\n",
       "      <th>7</th>\n",
       "      <td>B0025ULYKI</td>\n",
       "      <td>Not as thick as kettle chips we have had in the past, definitely more like a potato chip and the college crowd loves it.  Interestingly enough they feel more 'gourmet' when eating these. The flavor is not heavily garlic while you can easily taste the cheese.</td>\n",
       "      <td>0.426484</td>\n",
       "    </tr>\n",
       "    <tr>\n",
       "      <th>8</th>\n",
       "      <td>B0025ULYKI</td>\n",
       "      <td>I LOVE Old Dutch Ketchup chips but they are no where to be found in the US and pricey on eBay.  I tried Herr's but they were dull - very ketchupy but not the tangy-vinigary ketchup bite that Old Dutch has (makes your mouth hurt  in a good way if you eat too many!).  Uncle Rays are decent - more of a kick - many \"loaded\" chips which I like, still, not the addictive bite I love.  So - if you love Herr's these may be too much for you.  If you love Old Dutch give these a shot.  I am still on my quest for something equal to Old Dutch!!</td>\n",
       "      <td>0.505742</td>\n",
       "    </tr>\n",
       "    <tr>\n",
       "      <th>9</th>\n",
       "      <td>B004IF3TAQ</td>\n",
       "      <td>I don't know whether it was a fault in the packaging or if they were just past their prime, but they were rock hard and the flavor was not strong enough.</td>\n",
       "      <td>0.479290</td>\n",
       "    </tr>\n",
       "  </tbody>\n",
       "</table>\n",
       "</div>"
      ],
      "text/plain": [
       "    ProductId  \\\n",
       "0  B006K2ZZ7K   \n",
       "1  B001UJEN6C   \n",
       "2  B000G6RYNE   \n",
       "3  B000G6RYNE   \n",
       "4  B000G6RYNE   \n",
       "5  B0030C9A60   \n",
       "6  B001GCVLXG   \n",
       "7  B0025ULYKI   \n",
       "8  B0025ULYKI   \n",
       "9  B004IF3TAQ   \n",
       "\n",
       "                                                                                                                                                                                                                                                                                                                                                                                                                                                                                                                                                       Text  \\\n",
       "0                                                                                                                          I got a wild hair for taffy and ordered this five pound bag. The taffy was all very enjoyable with many flavors: watermelon, root beer, melon, peppermint, grape, etc. My only complaint is there was a bit too much red/black licorice-flavored pieces (just not my particular favorites). Between me, my kids, and my husband, this lasted only two weeks! I would recommend this brand of taffy -- it was a delightful treat.   \n",
       "1                                                                                                                                                                                                                                                                                                         I have tried other energy shots and this one is the only one that really makes me feel good and energized without any other sides effects at all, its also the best taste, others taste like medicine, this one has a tea fresh taste. I love it.   \n",
       "2                                                                                                                                                                                                                                                                          These potato chips are excellent.There are no trans fats.<br /><br />They taste absolutely delicious.Whenever I am in the mood for potatoe chips, Kettles is the brand I buy.<br /><br />A great product that anyone should enjoy and I highly recommend them!<br /><br />Enjoy!   \n",
       "3                                                                                                                                                                                                                                                                                                                                                                                                                             These chips are nasty.  I thought someone had spilled a drink in the bag, no the chips were just soaked with grease.  Nasty!!   \n",
       "4                                                                                                                                                                                                                                                                                                                                                                                                                              I bought these when on sale through Amazon.  Nice crispy thick chips.  Definitely a great buy if you can catch them on sale.   \n",
       "5                                                                                                                                                                                                                                                                                                                                                                                                                                                 I bought these chocolate liquor cups for a party! It was a big hit. They are high quality and a good buy.   \n",
       "6                                                                                                                                                                                                                                                                                                           If you like Shortbread you will really like these. Walkers always makes the best Shortbread.<br /><a href=\"http://www.amazon.com/gp/product/B001GCVLXG\">Walkers Shortbread Highlander Shortbread Portion Pack, 1.4 Ounce Units (Pack of 24)</a>   \n",
       "7                                                                                                                                                                                                                                                                                        Not as thick as kettle chips we have had in the past, definitely more like a potato chip and the college crowd loves it.  Interestingly enough they feel more 'gourmet' when eating these. The flavor is not heavily garlic while you can easily taste the cheese.   \n",
       "8  I LOVE Old Dutch Ketchup chips but they are no where to be found in the US and pricey on eBay.  I tried Herr's but they were dull - very ketchupy but not the tangy-vinigary ketchup bite that Old Dutch has (makes your mouth hurt  in a good way if you eat too many!).  Uncle Rays are decent - more of a kick - many \"loaded\" chips which I like, still, not the addictive bite I love.  So - if you love Herr's these may be too much for you.  If you love Old Dutch give these a shot.  I am still on my quest for something equal to Old Dutch!!   \n",
       "9                                                                                                                                                                                                                                                                                                                                                                                                 I don't know whether it was a fault in the packaging or if they were just past their prime, but they were rock hard and the flavor was not strong enough.   \n",
       "\n",
       "   cosine_avg_sim  \n",
       "0        0.767893  \n",
       "1        0.637572  \n",
       "2        0.413247  \n",
       "3        0.519838  \n",
       "4        0.543350  \n",
       "5        0.754287  \n",
       "6        0.630456  \n",
       "7        0.426484  \n",
       "8        0.505742  \n",
       "9        0.479290  "
      ]
     },
     "execution_count": 22,
     "metadata": {},
     "output_type": "execute_result"
    }
   ],
   "source": [
    "# Identify the highest cosine_avg_sim review for each product\n",
    "high_reviews = merged_df.loc[df_filtered.groupby('ProductId')['cosine_avg_sim'].idxmax()].reset_index(drop=True)\n",
    "\n",
    "# suggesting whole content\n",
    "pd.set_option('display.max_colwidth', None) \n",
    "high_reviews[['ProductId', 'Text', 'cosine_avg_sim']].head(10)\n"
   ]
  },
  {
   "cell_type": "code",
   "execution_count": 23,
   "id": "ceb62393-f7fb-4dd3-b425-24bf4131e596",
   "metadata": {},
   "outputs": [
    {
     "data": {
      "text/html": [
       "<div>\n",
       "<style scoped>\n",
       "    .dataframe tbody tr th:only-of-type {\n",
       "        vertical-align: middle;\n",
       "    }\n",
       "\n",
       "    .dataframe tbody tr th {\n",
       "        vertical-align: top;\n",
       "    }\n",
       "\n",
       "    .dataframe thead th {\n",
       "        text-align: right;\n",
       "    }\n",
       "</style>\n",
       "<table border=\"1\" class=\"dataframe\">\n",
       "  <thead>\n",
       "    <tr style=\"text-align: right;\">\n",
       "      <th></th>\n",
       "      <th>ProductId</th>\n",
       "      <th>Text</th>\n",
       "      <th>cosine_avg_sim</th>\n",
       "    </tr>\n",
       "  </thead>\n",
       "  <tbody>\n",
       "    <tr>\n",
       "      <th>0</th>\n",
       "      <td>0006641040</td>\n",
       "      <td>It was a great price, but I can't read it to my class. It is like a little travel brochure.</td>\n",
       "      <td>0.303209</td>\n",
       "    </tr>\n",
       "    <tr>\n",
       "      <th>1</th>\n",
       "      <td>7310172001</td>\n",
       "      <td>Love this faucet.  My husband had installed the same one in our old house so when our current faucet was leaking I told him not to fix it and we would buy the same one.  It was easy enough for him to install but he did need my assistance a few times to help hold some things in place. Looks great and works great.</td>\n",
       "      <td>0.030737</td>\n",
       "    </tr>\n",
       "    <tr>\n",
       "      <th>2</th>\n",
       "      <td>7310172101</td>\n",
       "      <td>Love this faucet.  My husband had installed the same one in our old house so when our current faucet was leaking I told him not to fix it and we would buy the same one.  It was easy enough for him to install but he did need my assistance a few times to help hold some things in place. Looks great and works great.</td>\n",
       "      <td>0.030737</td>\n",
       "    </tr>\n",
       "    <tr>\n",
       "      <th>3</th>\n",
       "      <td>B00002N8SM</td>\n",
       "      <td>This sly trap is attractive to look at, works well, and has no odor. I recommend it!</td>\n",
       "      <td>0.446163</td>\n",
       "    </tr>\n",
       "    <tr>\n",
       "      <th>4</th>\n",
       "      <td>B00004CI84</td>\n",
       "      <td>i got this cause i love the more. the quality is okay but i guess it would look nicer on a 120hz tv</td>\n",
       "      <td>0.126864</td>\n",
       "    </tr>\n",
       "    <tr>\n",
       "      <th>5</th>\n",
       "      <td>B00004CXX9</td>\n",
       "      <td>When Amazon sells something directly, you get it on time if not earlier. I originally placed the order with one of their advertised Marketplace vendors who advertised 3-4 days. the order acknowledgement indicated devlivery within 3 weeks (via USPS). I immediately cancelled that order and ordered from Amazon. Got it in 3 days.</td>\n",
       "      <td>0.024058</td>\n",
       "    </tr>\n",
       "    <tr>\n",
       "      <th>6</th>\n",
       "      <td>B00004RAMS</td>\n",
       "      <td>Cut my hand the first time I tried to set set it. Hard as hell to set. Cant use it when the ground is wet. I didn't like this sucker at all</td>\n",
       "      <td>0.205461</td>\n",
       "    </tr>\n",
       "    <tr>\n",
       "      <th>7</th>\n",
       "      <td>B00004RAMV</td>\n",
       "      <td>The screw on top does not screw onto the container provided. There is no way the item can be hung from the top loop because the jar would fall. Mismatched top and jar. Disappointed with quality</td>\n",
       "      <td>0.237008</td>\n",
       "    </tr>\n",
       "    <tr>\n",
       "      <th>8</th>\n",
       "      <td>B00004RAMX</td>\n",
       "      <td>I am outside with product open and there is absolutely nothing here to show me how to use this.  Now I must go inside, search online, print or make notes to have something with me as I use this product.  Why not one printed sheet to use at worksite?  No value here--I'm losing half an hour.</td>\n",
       "      <td>0.063595</td>\n",
       "    </tr>\n",
       "    <tr>\n",
       "      <th>9</th>\n",
       "      <td>B00004RAMY</td>\n",
       "      <td>It arrived on time with out any problems. The only problem is my sister (who purchased it) and her neighbor could not get it to work.</td>\n",
       "      <td>0.066076</td>\n",
       "    </tr>\n",
       "  </tbody>\n",
       "</table>\n",
       "</div>"
      ],
      "text/plain": [
       "    ProductId  \\\n",
       "0  0006641040   \n",
       "1  7310172001   \n",
       "2  7310172101   \n",
       "3  B00002N8SM   \n",
       "4  B00004CI84   \n",
       "5  B00004CXX9   \n",
       "6  B00004RAMS   \n",
       "7  B00004RAMV   \n",
       "8  B00004RAMX   \n",
       "9  B00004RAMY   \n",
       "\n",
       "                                                                                                                                                                                                                                                                                                                                      Text  \\\n",
       "0                                                                                                                                                                                                                                              It was a great price, but I can't read it to my class. It is like a little travel brochure.   \n",
       "1                Love this faucet.  My husband had installed the same one in our old house so when our current faucet was leaking I told him not to fix it and we would buy the same one.  It was easy enough for him to install but he did need my assistance a few times to help hold some things in place. Looks great and works great.   \n",
       "2                Love this faucet.  My husband had installed the same one in our old house so when our current faucet was leaking I told him not to fix it and we would buy the same one.  It was easy enough for him to install but he did need my assistance a few times to help hold some things in place. Looks great and works great.   \n",
       "3                                                                                                                                                                                                                                                     This sly trap is attractive to look at, works well, and has no odor. I recommend it!   \n",
       "4                                                                                                                                                                                                                                      i got this cause i love the more. the quality is okay but i guess it would look nicer on a 120hz tv   \n",
       "5  When Amazon sells something directly, you get it on time if not earlier. I originally placed the order with one of their advertised Marketplace vendors who advertised 3-4 days. the order acknowledgement indicated devlivery within 3 weeks (via USPS). I immediately cancelled that order and ordered from Amazon. Got it in 3 days.   \n",
       "6                                                                                                                                                                                              Cut my hand the first time I tried to set set it. Hard as hell to set. Cant use it when the ground is wet. I didn't like this sucker at all   \n",
       "7                                                                                                                                        The screw on top does not screw onto the container provided. There is no way the item can be hung from the top loop because the jar would fall. Mismatched top and jar. Disappointed with quality   \n",
       "8                                       I am outside with product open and there is absolutely nothing here to show me how to use this.  Now I must go inside, search online, print or make notes to have something with me as I use this product.  Why not one printed sheet to use at worksite?  No value here--I'm losing half an hour.   \n",
       "9                                                                                                                                                                                                    It arrived on time with out any problems. The only problem is my sister (who purchased it) and her neighbor could not get it to work.   \n",
       "\n",
       "   cosine_avg_sim  \n",
       "0        0.303209  \n",
       "1        0.030737  \n",
       "2        0.030737  \n",
       "3        0.446163  \n",
       "4        0.126864  \n",
       "5        0.024058  \n",
       "6        0.205461  \n",
       "7        0.237008  \n",
       "8        0.063595  \n",
       "9        0.066076  "
      ]
     },
     "execution_count": 23,
     "metadata": {},
     "output_type": "execute_result"
    }
   ],
   "source": [
    "# Identify the lowest cosine_avg_sim review for each product\n",
    "least_rep_reviews = merged_df.loc[\n",
    "    merged_df.groupby('ProductId')['cosine_avg_sim'].idxmin()\n",
    "].reset_index(drop=True)\n",
    "\n",
    "# suggesting whole content\n",
    "pd.set_option('display.max_colwidth', None)\n",
    "least_rep_reviews[['ProductId', 'Text', 'cosine_avg_sim']].head(10)\n"
   ]
  },
  {
   "cell_type": "markdown",
   "id": "ccb4d413-d097-4473-b628-2f9d9aa726d0",
   "metadata": {},
   "source": [
    "## Feature Engineering for Modeling\n",
    "We prepare TF-IDF vectors from cleaned text, and combine them with numerical features such as:\n",
    "- cosine_avg_sim\n",
    "- recency_weight\n",
    "- (optionally) helpfulness_ratio"
   ]
  },
  {
   "cell_type": "code",
   "execution_count": 24,
   "id": "ab2f3113-044a-43bc-b773-1b737c5fdaae",
   "metadata": {},
   "outputs": [
    {
     "name": "stderr",
     "output_type": "stream",
     "text": [
      "[nltk_data] Downloading package wordnet to /home/ec2-user/nltk_data...\n",
      "[nltk_data]   Package wordnet is already up-to-date!\n",
      "[nltk_data] Downloading package stopwords to\n",
      "[nltk_data]     /home/ec2-user/nltk_data...\n",
      "[nltk_data]   Package stopwords is already up-to-date!\n"
     ]
    }
   ],
   "source": [
    "#Cleaning the text\n",
    "from nltk.corpus import stopwords\n",
    "import nltk\n",
    "from nltk.stem import WordNetLemmatizer\n",
    "import re\n",
    "nltk.download('wordnet')\n",
    "nltk.download('stopwords')\n",
    "stop_words = set(stopwords.words('english'))\n",
    "lemmatizer = WordNetLemmatizer()\n",
    "\n",
    "# Simple contraction expansion\n",
    "def expand_contractions(text):\n",
    "    contraction_map = {\n",
    "        \"can't\": \"cannot\", \"won't\": \"will not\", \"n't\": \" not\", \"'re\": \" are\",\n",
    "        \"'s\": \" is\", \"'d\": \" would\", \"'ll\": \" will\", \"'t\": \" not\", \"'ve\": \" have\", \"'m\": \" am\"\n",
    "    }\n",
    "    for c, e in contraction_map.items():\n",
    "        text = re.sub(c, e, text)\n",
    "    return text\n",
    "\n",
    "def clean_text(text):\n",
    "    text = expand_contractions(text)\n",
    "    text = re.sub(r'[^a-zA-Z\\s]', '', str(text))\n",
    "    tokens = text.lower().split()\n",
    "    tokens = [lemmatizer.lemmatize(word) for word in tokens if word not in stop_words]\n",
    "    return \" \".join(tokens)\n",
    "\n",
    "merged_df['CleanedText'] = merged_df['Text'].apply(clean_text)\n"
   ]
  },
  {
   "cell_type": "code",
   "execution_count": 25,
   "id": "62fe3c17-5a93-4484-9338-55b801325776",
   "metadata": {},
   "outputs": [],
   "source": [
    "df_unlabeled = merged_df[merged_df['helpfulness_ratio'].isna()]\n",
    "df_labeled = merged_df[merged_df['helpfulness_ratio'].notna()]\n",
    "df_unlabeled = df_unlabeled[['ProductId', 'Text', 'recency_weight', 'Time', 'ReviewIdx', 'CleanedText', 'cosine_avg_sim']].dropna()"
   ]
  },
  {
   "cell_type": "code",
   "execution_count": 26,
   "id": "cdc6f817-06b4-4ad4-8faf-ad7b9d4b709b",
   "metadata": {},
   "outputs": [
    {
     "name": "stderr",
     "output_type": "stream",
     "text": [
      "/home/ec2-user/anaconda3/envs/python3/lib/python3.10/site-packages/xgboost/core.py:377: FutureWarning: Your system has an old version of glibc (< 2.28). We will stop supporting Linux distros with glibc older than 2.28 after **May 31, 2025**. Please upgrade to a recent Linux distro (with glibc >= 2.28) to use future versions of XGBoost.\n",
      "Note: You have installed the 'manylinux2014' variant of XGBoost. Certain features such as GPU algorithms or federated learning are not available. To use these features, please upgrade to a recent Linux distro with glibc 2.28+, and install the 'manylinux_2_28' variant.\n",
      "  warnings.warn(\n"
     ]
    }
   ],
   "source": [
    "from sklearn.feature_extraction.text import TfidfVectorizer\n",
    "from sklearn.model_selection import train_test_split\n",
    "import xgboost as xgb\n",
    "# Make TF-IDF feature\n",
    "vectorizer = TfidfVectorizer(max_features=1000)\n",
    "X_text = vectorizer.fit_transform(df_labeled['CleanedText'])\n",
    "\n",
    "# Other numerical value\n",
    "X_extra = df_labeled[['cosine_avg_sim', 'recency_weight']].values\n",
    "\n",
    "# merge all numerical feature we'll use for training XGBoost model\n",
    "from scipy.sparse import hstack, csr_matrix\n",
    "X = hstack([X_text, csr_matrix(X_extra)])\n",
    "y = df_labeled['HelpfulBinary'].values"
   ]
  },
  {
   "cell_type": "code",
   "execution_count": 27,
   "id": "0efc8fe1-1c10-4486-a815-af0d675afbb7",
   "metadata": {},
   "outputs": [
    {
     "data": {
      "text/plain": [
       "HelpfulBinary\n",
       "1    199061\n",
       "0     64932\n",
       "Name: count, dtype: int64"
      ]
     },
     "execution_count": 27,
     "metadata": {},
     "output_type": "execute_result"
    }
   ],
   "source": [
    "df_labeled['HelpfulBinary'].value_counts()"
   ]
  },
  {
   "cell_type": "code",
   "execution_count": 28,
   "id": "6ea21154-9f1e-4c26-8ea8-798c8bc7d31a",
   "metadata": {},
   "outputs": [
    {
     "name": "stdout",
     "output_type": "stream",
     "text": [
      "HelpfulBinary = 1: 0.7540389328504923\n",
      "HelpfulBinary = 0: 0.24596106714950774\n"
     ]
    }
   ],
   "source": [
    "print(\"HelpfulBinary = 1:\", len(df_labeled[df_labeled['HelpfulBinary'] == 1]) / (len(df_labeled[df_labeled['HelpfulBinary'] == 0]) + len(df_labeled[df_labeled['HelpfulBinary'] == 1])))\n",
    "print(\"HelpfulBinary = 0:\", len(df_labeled[df_labeled['HelpfulBinary'] == 0]) / (len(df_labeled[df_labeled['HelpfulBinary'] == 0]) + len(df_labeled[df_labeled['HelpfulBinary'] == 1])))"
   ]
  },
  {
   "cell_type": "code",
   "execution_count": 29,
   "id": "a952b7d9-d51a-4c20-b3fa-20a2a00a2899",
   "metadata": {},
   "outputs": [
    {
     "data": {
      "image/png": "[encoded data removed]",
      "text/plain": [
       "<Figure size 640x480 with 1 Axes>"
      ]
     },
     "metadata": {},
     "output_type": "display_data"
    }
   ],
   "source": [
    "sns.countplot(data=df_labeled, x='HelpfulBinary')\n",
    "plt.title(\"True HelpfulBinary is Imbalanced\")\n",
    "plt.xlabel(\"Helpfulness Binary (0=No, 1=Yes)\")\n",
    "plt.ylabel(\"Count\")\n",
    "plt.show()\n"
   ]
  },
  {
   "cell_type": "code",
   "execution_count": 30,
   "id": "15102633-98dc-468d-a4f0-259ac4745352",
   "metadata": {},
   "outputs": [],
   "source": [
    "# combine TF-IDF\n",
    "X_text_sparse = X_text  # TF-IDF is sparse\n",
    "X_extra_dense = X_extra  # cosine / recency / ratio are dense\n",
    "\n",
    "# For merging successfully, we transform dense array into sparse format.\n",
    "X = hstack([X_text_sparse, csr_matrix(X_extra_dense)])\n"
   ]
  },
  {
   "cell_type": "markdown",
   "id": "71d998e2-4c59-4ab1-b3b8-e96127284671",
   "metadata": {},
   "source": [
    "## XGBoost Training for Helpfulness Classification(with dimensionally reduction -- SVD)\n",
    "We use TruncatedSVD to compress the sparse TF-IDF matrix into a smaller dense feature space, preserving important information while reducing memory and computational costs.  \n",
    "\n",
    "we apply TruncatedSVD to reduce the dimensionality of sparse TF-IDF features.\n",
    "TruncatedSVD (Truncated Singular Value Decomposition) compresses a high-dimensional sparse matrix into a lower-dimensional dense matrix while preserving the main variance in the data.\n",
    "This helps reduce computational cost and improves the stability and efficiency of model training.\n",
    "\n",
    "We first compress the TF-IDF features into 100 dimensions using TruncatedSVD, and then apply standardization (StandardScaler) to ensure that all features are on the same scale.\n",
    "\n",
    "Using TruncatedSVD is particularly suitable for text analysis tasks, because TF-IDF matrices are typically sparse, and TruncatedSVD can directly operate on sparse inputs without converting them into dense format, thus avoiding memory issues.\n",
    "\n",
    "\n"
   ]
  },
  {
   "cell_type": "code",
   "execution_count": 31,
   "id": "b12a0667-96a5-45e7-9c90-503f69932cc3",
   "metadata": {},
   "outputs": [],
   "source": [
    "from sklearn.pipeline import make_pipeline\n",
    "from sklearn.decomposition import TruncatedSVD\n",
    "from sklearn.preprocessing import StandardScaler\n",
    "from scipy.sparse import hstack, csr_matrix\n",
    "\n",
    "# transform X_extra into sparse\n",
    "X_extra_sparse = csr_matrix(X_extra)\n",
    "\n",
    "# merge two sparse matrix\n",
    "X_sparse_all = hstack([X_text, X_extra_sparse])  # all of them are sparse\n",
    "\n",
    "# TruncatedSVD + scaling in pipeline\n",
    "pipeline = make_pipeline(\n",
    "    TruncatedSVD(n_components=100, random_state=42),\n",
    "    StandardScaler()  # optional, if needed by XGBoost\n",
    ")\n",
    "\n",
    "X_reduced = pipeline.fit_transform(X_sparse_all)\n"
   ]
  },
  {
   "cell_type": "code",
   "execution_count": 32,
   "id": "9aba6474-7083-4231-acba-a0af73526e94",
   "metadata": {},
   "outputs": [
    {
     "name": "stdout",
     "output_type": "stream",
     "text": [
      "Data reformatted for XGBoost and saved to CSV files locally.\n"
     ]
    }
   ],
   "source": [
    "# use X_reduced which is dimension reducted feature to train\n",
    "X_train, X_test, y_train, y_test = train_test_split(X_reduced, y, test_size=0.2, random_state=42)\n",
    "\n",
    "# make processed file\n",
    "df_X_train = pd.DataFrame(X_train)\n",
    "df_X_test = pd.DataFrame(X_test)\n",
    "df_y_train = pd.DataFrame(y_train)\n",
    "df_y_test = pd.DataFrame(y_test)\n",
    "\n",
    "# Save train and test set to local CSV files\n",
    "df_X_train.to_csv('X_train_processed.csv', index=False)\n",
    "df_X_test.to_csv('X_test_processed.csv', index=False)\n",
    "df_y_train.to_csv('y_train_processed.csv', index=False)\n",
    "df_y_test.to_csv('y_test_processed.csv', index=False)\n",
    "\n",
    "print(\"Data reformatted for XGBoost and saved to CSV files locally.\")\n"
   ]
  },
  {
   "cell_type": "code",
   "execution_count": 11,
   "id": "d9955b08-a072-4b22-9727-6dce15c70160",
   "metadata": {},
   "outputs": [
    {
     "name": "stderr",
     "output_type": "stream",
     "text": [
      "/home/ec2-user/anaconda3/envs/python3/lib/python3.10/site-packages/pydantic/_internal/_fields.py:172: UserWarning: Field name \"json\" in \"MonitoringDatasetFormat\" shadows an attribute in parent \"Base\"\n",
      "  warnings.warn(\n"
     ]
    },
    {
     "data": {
      "text/html": [
       "<pre style=\"white-space:pre;overflow-x:auto;line-height:normal;font-family:Menlo,'DejaVu Sans Mono',consolas,'Courier New',monospace\"><span style=\"color: #7fbfbf; text-decoration-color: #7fbfbf\">[05/14/25 23:01:10] </span><span style=\"color: #0069ff; text-decoration-color: #0069ff; font-weight: bold\">INFO    </span> Found credentials from IAM Role:                                   <a href=\"file:///home/ec2-user/anaconda3/envs/python3/lib/python3.10/site-packages/botocore/credentials.py\" target=\"_blank\"><span style=\"color: #7f7f7f; text-decoration-color: #7f7f7f\">credentials.py</span></a><span style=\"color: #7f7f7f; text-decoration-color: #7f7f7f\">:</span><a href=\"file:///home/ec2-user/anaconda3/envs/python3/lib/python3.10/site-packages/botocore/credentials.py#1132\" target=\"_blank\"><span style=\"color: #7f7f7f; text-decoration-color: #7f7f7f\">1132</span></a>\n",
       "<span style=\"color: #7fbfbf; text-decoration-color: #7fbfbf\">                    </span>         BaseNotebookInstanceEc2InstanceRole                                <span style=\"color: #7f7f7f; text-decoration-color: #7f7f7f\">                   </span>\n",
       "</pre>\n"
      ],
      "text/plain": [
       "\u001b[2;36m[05/14/25 23:01:10]\u001b[0m\u001b[2;36m \u001b[0m\u001b[1;38;2;0;105;255mINFO    \u001b[0m Found credentials from IAM Role:                                   \u001b]8;id=162083;file:///home/ec2-user/anaconda3/envs/python3/lib/python3.10/site-packages/botocore/credentials.py\u001b\\\u001b[2mcredentials.py\u001b[0m\u001b]8;;\u001b\\\u001b[2m:\u001b[0m\u001b]8;id=299791;file:///home/ec2-user/anaconda3/envs/python3/lib/python3.10/site-packages/botocore/credentials.py#1132\u001b\\\u001b[2m1132\u001b[0m\u001b]8;;\u001b\\\n",
       "\u001b[2;36m                    \u001b[0m         BaseNotebookInstanceEc2InstanceRole                                \u001b[2m                   \u001b[0m\n"
      ]
     },
     "metadata": {},
     "output_type": "display_data"
    },
    {
     "name": "stdout",
     "output_type": "stream",
     "text": [
      "sagemaker.config INFO - Not applying SDK defaults from location: /etc/xdg/sagemaker/config.yaml\n",
      "sagemaker.config INFO - Not applying SDK defaults from location: /home/ec2-user/.config/sagemaker/config.yaml\n"
     ]
    },
    {
     "data": {
      "text/html": [
       "<pre style=\"white-space:pre;overflow-x:auto;line-height:normal;font-family:Menlo,'DejaVu Sans Mono',consolas,'Courier New',monospace\"><span style=\"color: #7fbfbf; text-decoration-color: #7fbfbf\">[05/14/25 23:01:12] </span><span style=\"color: #0069ff; text-decoration-color: #0069ff; font-weight: bold\">INFO    </span> Found credentials from IAM Role:                                   <a href=\"file:///home/ec2-user/anaconda3/envs/python3/lib/python3.10/site-packages/botocore/credentials.py\" target=\"_blank\"><span style=\"color: #7f7f7f; text-decoration-color: #7f7f7f\">credentials.py</span></a><span style=\"color: #7f7f7f; text-decoration-color: #7f7f7f\">:</span><a href=\"file:///home/ec2-user/anaconda3/envs/python3/lib/python3.10/site-packages/botocore/credentials.py#1132\" target=\"_blank\"><span style=\"color: #7f7f7f; text-decoration-color: #7f7f7f\">1132</span></a>\n",
       "<span style=\"color: #7fbfbf; text-decoration-color: #7fbfbf\">                    </span>         BaseNotebookInstanceEc2InstanceRole                                <span style=\"color: #7f7f7f; text-decoration-color: #7f7f7f\">                   </span>\n",
       "</pre>\n"
      ],
      "text/plain": [
       "\u001b[2;36m[05/14/25 23:01:12]\u001b[0m\u001b[2;36m \u001b[0m\u001b[1;38;2;0;105;255mINFO    \u001b[0m Found credentials from IAM Role:                                   \u001b]8;id=296789;file:///home/ec2-user/anaconda3/envs/python3/lib/python3.10/site-packages/botocore/credentials.py\u001b\\\u001b[2mcredentials.py\u001b[0m\u001b]8;;\u001b\\\u001b[2m:\u001b[0m\u001b]8;id=375901;file:///home/ec2-user/anaconda3/envs/python3/lib/python3.10/site-packages/botocore/credentials.py#1132\u001b\\\u001b[2m1132\u001b[0m\u001b]8;;\u001b\\\n",
       "\u001b[2;36m                    \u001b[0m         BaseNotebookInstanceEc2InstanceRole                                \u001b[2m                   \u001b[0m\n"
      ]
     },
     "metadata": {},
     "output_type": "display_data"
    },
    {
     "data": {
      "text/html": [
       "<pre style=\"white-space:pre;overflow-x:auto;line-height:normal;font-family:Menlo,'DejaVu Sans Mono',consolas,'Courier New',monospace\"><span style=\"color: #7fbfbf; text-decoration-color: #7fbfbf\">[05/14/25 23:01:13] </span><span style=\"color: #0069ff; text-decoration-color: #0069ff; font-weight: bold\">INFO    </span> Found credentials from IAM Role:                                   <a href=\"file:///home/ec2-user/anaconda3/envs/python3/lib/python3.10/site-packages/botocore/credentials.py\" target=\"_blank\"><span style=\"color: #7f7f7f; text-decoration-color: #7f7f7f\">credentials.py</span></a><span style=\"color: #7f7f7f; text-decoration-color: #7f7f7f\">:</span><a href=\"file:///home/ec2-user/anaconda3/envs/python3/lib/python3.10/site-packages/botocore/credentials.py#1132\" target=\"_blank\"><span style=\"color: #7f7f7f; text-decoration-color: #7f7f7f\">1132</span></a>\n",
       "<span style=\"color: #7fbfbf; text-decoration-color: #7fbfbf\">                    </span>         BaseNotebookInstanceEc2InstanceRole                                <span style=\"color: #7f7f7f; text-decoration-color: #7f7f7f\">                   </span>\n",
       "</pre>\n"
      ],
      "text/plain": [
       "\u001b[2;36m[05/14/25 23:01:13]\u001b[0m\u001b[2;36m \u001b[0m\u001b[1;38;2;0;105;255mINFO    \u001b[0m Found credentials from IAM Role:                                   \u001b]8;id=963787;file:///home/ec2-user/anaconda3/envs/python3/lib/python3.10/site-packages/botocore/credentials.py\u001b\\\u001b[2mcredentials.py\u001b[0m\u001b]8;;\u001b\\\u001b[2m:\u001b[0m\u001b]8;id=379726;file:///home/ec2-user/anaconda3/envs/python3/lib/python3.10/site-packages/botocore/credentials.py#1132\u001b\\\u001b[2m1132\u001b[0m\u001b]8;;\u001b\\\n",
       "\u001b[2;36m                    \u001b[0m         BaseNotebookInstanceEc2InstanceRole                                \u001b[2m                   \u001b[0m\n"
      ]
     },
     "metadata": {},
     "output_type": "display_data"
    },
    {
     "name": "stdout",
     "output_type": "stream",
     "text": [
      "Training data uploaded to: s3://is597-group10/model_training/train/X_train_processed.csv\n",
      "Testing data uploaded to: s3://is597-group10/model_training/train/y_train_processed.csv\n",
      "Testing data uploaded to: s3://is597-group10/model_training/test/X_test_processed.csv\n",
      "Testing data uploaded to: s3://is597-group10/model_training/test/y_test_processed.csv\n"
     ]
    }
   ],
   "source": [
    "# Upload train/test data to S3\n",
    "import sagemaker\n",
    "import boto3\n",
    "\n",
    "# Initialize SageMaker session\n",
    "sagemaker_session = sagemaker.Session()\n",
    "role = sagemaker.get_execution_role()\n",
    "bucket = \"is597-group10\"\n",
    "prefix = \"model_training\"\n",
    "\n",
    "# Upload CSVs\n",
    "X_train_s3_path = sagemaker_session.upload_data(\n",
    "    path='X_train_processed.csv',\n",
    "    bucket=bucket,\n",
    "    key_prefix=f'{prefix}/train'\n",
    ")\n",
    "\n",
    "y_train_s3_path = sagemaker_session.upload_data(\n",
    "    path='y_train_processed.csv',\n",
    "    bucket=bucket,\n",
    "    key_prefix=f'{prefix}/train'\n",
    ")\n",
    "\n",
    "X_test_s3_path = sagemaker_session.upload_data(\n",
    "    path='X_test_processed.csv',\n",
    "    bucket=bucket,\n",
    "    key_prefix=f'{prefix}/test'\n",
    ")\n",
    "\n",
    "y_test_s3_path = sagemaker_session.upload_data(\n",
    "    path='y_test_processed.csv',\n",
    "    bucket=bucket,\n",
    "    key_prefix=f'{prefix}/test'\n",
    ")\n",
    "\n",
    "print(f\"Training data uploaded to: {X_train_s3_path}\")\n",
    "print(f\"Testing data uploaded to: {y_train_s3_path}\")\n",
    "print(f\"Testing data uploaded to: {X_test_s3_path}\")\n",
    "print(f\"Testing data uploaded to: {y_test_s3_path}\")"
   ]
  },
  {
   "cell_type": "code",
   "execution_count": 34,
   "id": "7fcfb58a-7805-4097-9d32-8643a45cadf6",
   "metadata": {},
   "outputs": [
    {
     "name": "stdout",
     "output_type": "stream",
     "text": [
      "              precision    recall  f1-score   support\n",
      "\n",
      "           0       0.73      0.60      0.66     12887\n",
      "           1       0.88      0.93      0.90     39912\n",
      "\n",
      "    accuracy                           0.85     52799\n",
      "   macro avg       0.81      0.77      0.78     52799\n",
      "weighted avg       0.84      0.85      0.84     52799\n",
      "\n"
     ]
    }
   ],
   "source": [
    "from sklearn.decomposition import TruncatedSVD\n",
    "from sklearn.metrics import classification_report, confusion_matrix\n",
    "# calculate weight between HelpfulBinary = 0 and HelpfulBinary = 1 to solve imbalanced problem\n",
    "neg, pos = np.bincount(y)\n",
    "scale_pos_weight = neg / pos # weight between HelpfulBinary = 0 and HelpfulBinary = 1\n",
    "\n",
    "# Train model\n",
    "model_svd = xgb.XGBClassifier(\n",
    "    n_estimators=1000,\n",
    "    max_depth=8,\n",
    "    learning_rate=0.1,\n",
    "    scale_pos_weight=scale_pos_weight  # add weight deal with imbalance class\n",
    ")\n",
    "model_svd.fit(X_train, y_train)\n",
    "\n",
    "# Evaluate model\n",
    "y_svd_pred = model_svd.predict(X_test)\n",
    "print(classification_report(y_test, y_svd_pred))"
   ]
  },
  {
   "cell_type": "code",
   "execution_count": 37,
   "id": "2fc3e249-2f4b-471c-9e75-f35780b49963",
   "metadata": {},
   "outputs": [],
   "source": [
    "# Save model locally as a file\n",
    "model_svd.save_model('helpful_svd_xgb_model.json')\n",
    "\n",
    "object_key = 'model_training/model/helpful_svd_xgb_model.json'\n",
    "# Upload model to S3\n",
    "s3.upload_file('helpful_svd_xgb_model.json', bucket_name, object_key)"
   ]
  },
  {
   "cell_type": "markdown",
   "id": "55091e70-ef28-4083-a81b-a399ac6fd1b7",
   "metadata": {},
   "source": [
    "## XGBoost Training for Helpfulness Classification(without dimensionally reduction)\n",
    "\n",
    "We use XGBoost to predict the `HelpfulBinary` label. Since the dataset is imbalanced, we apply `scale_pos_weight` to give more importance to the minority class (helpful reviews).\n"
   ]
  },
  {
   "cell_type": "code",
   "execution_count": 34,
   "id": "af77120e-5924-4372-a1f0-1bc8ba509d27",
   "metadata": {},
   "outputs": [
    {
     "name": "stdout",
     "output_type": "stream",
     "text": [
      "              precision    recall  f1-score   support\n",
      "\n",
      "           0       0.55      0.71      0.62     12887\n",
      "           1       0.90      0.81      0.85     39912\n",
      "\n",
      "    accuracy                           0.79     52799\n",
      "   macro avg       0.72      0.76      0.73     52799\n",
      "weighted avg       0.81      0.79      0.79     52799\n",
      "\n"
     ]
    }
   ],
   "source": [
    "# Train XGBClassifier\n",
    "from sklearn.metrics import classification_report, confusion_matrix\n",
    "#neg, pos = np.bincount(y) # we do that in previous cells\n",
    "#scale_pos_weight = neg / pos\n",
    "\n",
    "# split train and test data\n",
    "X2_train, X2_test, y2_train, y2_test = train_test_split(X, y, test_size=0.2, random_state=42)\n",
    "\n",
    "# train XGBoost\n",
    "model = xgb.XGBClassifier(n_estimators=1000, max_depth=7, learning_rate=0.1, scale_pos_weight=scale_pos_weight)\n",
    "model.fit(X2_train, y2_train)\n",
    "\n",
    "# prediction and evaluation\n",
    "y_pred = model.predict(X2_test)\n",
    "print(classification_report(y2_test, y_pred))\n",
    "\n"
   ]
  },
  {
   "cell_type": "markdown",
   "id": "91cfd269-1e46-48b9-be61-fe8fc3fef27c",
   "metadata": {},
   "source": [
    "NOTE: I try to use n_estimators=1000, max_depth=8, learning_rate=0.1 for this model as well, but kernal die. Therefore, I only can compare these parameter with model_svd n_estimators=1000, max_depth=8, learning_rate=0.1"
   ]
  },
  {
   "cell_type": "markdown",
   "id": "d0de923c-a3ac-404c-9848-10d9f3106485",
   "metadata": {},
   "source": [
    "## Model Evaluation\n",
    "\n",
    "We evaluate the classifier's performance using precision, recall, and F1-score. The model achieves good accuracy, especially in identifying helpful reviews.\n"
   ]
  },
  {
   "cell_type": "code",
   "execution_count": 35,
   "id": "f526acde",
   "metadata": {},
   "outputs": [
    {
     "name": "stdout",
     "output_type": "stream",
     "text": [
      "Evaluate the model with SVD\n",
      "              precision    recall  f1-score   support\n",
      "\n",
      "           0       0.73      0.60      0.66     12887\n",
      "           1       0.88      0.93      0.90     39912\n",
      "\n",
      "    accuracy                           0.85     52799\n",
      "   macro avg       0.81      0.77      0.78     52799\n",
      "weighted avg       0.84      0.85      0.84     52799\n",
      "\n",
      "              precision    recall  f1-score   support\n",
      "\n",
      "           0       0.55      0.71      0.62     12887\n",
      "           1       0.90      0.81      0.85     39912\n",
      "\n",
      "    accuracy                           0.79     52799\n",
      "   macro avg       0.72      0.76      0.73     52799\n",
      "weighted avg       0.81      0.79      0.79     52799\n",
      "\n"
     ]
    }
   ],
   "source": [
    "# Evaluate model\n",
    "y_svd_pred = model_svd.predict(X_test)\n",
    "print(\"Evaluate the model with SVD\")\n",
    "print(classification_report(y_test, y_svd_pred))\n",
    "\n",
    "# prediction and evaluation\n",
    "y_pred = model.predict(X2_test)\n",
    "print(classification_report(y2_test, y_pred))"
   ]
  },
  {
   "cell_type": "markdown",
   "id": "95027f8d",
   "metadata": {},
   "source": [
    "### Comparison Between Models With and Without Dimensionality Reduction (TruncatedSVD)\n",
    "\n",
    "To evaluate the effect of dimensionality reduction, we compared two models:\n",
    "\n",
    "- **Model 1: With TruncatedSVD (dimensionality reduction)**\n",
    "- **Model 2: Without dimensionality reduction (using full TF-IDF features)**\n",
    "\n",
    "| Metric               | With SVD | Without SVD |\n",
    "|----------------------|----------|-------------|\n",
    "| Precision (class 0)   | 0.73     | 0.55        |\n",
    "| Recall (class 0)      | 0.60     | 0.71        |\n",
    "| F1-score (class 0)    | 0.66     | 0.62        |\n",
    "| Precision (class 1)   | 0.88     | 0.90        |\n",
    "| Recall (class 1)      | 0.93     | 0.81        |\n",
    "| F1-score (class 1)    | 0.90     | 0.85        |\n",
    "| Macro avg F1-score    | 0.78     | 0.73        |\n",
    "| Weighted avg F1-score | 0.84     | 0.79        |\n",
    "| Accuracy              | 0.85     | 0.79        |\n",
    "\n",
    "---\n",
    "\n",
    "### Interpretation:\n",
    "\n",
    "- After applying TruncatedSVD, **the model's overall performance improved**.\n",
    "- **F1-score**, which balances precision and recall, **increased** after using SVD, meaning the model became better at both identifying helpful reviews and avoiding false positives.\n",
    "- **Accuracy** also improved from 0.79 to 0.85.\n",
    "- **Macro average F1-score** (which treats both classes equally) increased, indicating that the model handles both helpful and non-helpful reviews more fairly after dimensionality reduction.\n",
    "- This shows that applying TruncatedSVD **helped simplify the feature space** without losing important information, and **also reduced overfitting** by removing noisy or redundant features.\n",
    "\n",
    "### Therefore, we decide to use Model 1 (the one with SVD) to do prediction"
   ]
  },
  {
   "cell_type": "markdown",
   "id": "789df55c-67e3-4a20-bdd0-b05836251f26",
   "metadata": {},
   "source": [
    "#### In data with helpfulnessBinary gound truth, does most representative data more helpful?"
   ]
  },
  {
   "cell_type": "code",
   "execution_count": 36,
   "id": "f47bed26",
   "metadata": {},
   "outputs": [
    {
     "data": {
      "text/plain": [
       "HelpfulBinary\n",
       "1    20300\n",
       "0     3528\n",
       "Name: count, dtype: int64"
      ]
     },
     "execution_count": 36,
     "metadata": {},
     "output_type": "execute_result"
    }
   ],
   "source": [
    "# True helpfulness for training data(for most representative data)\n",
    "high_true_reviews = df_labeled.loc[\n",
    "    df_labeled.groupby('ProductId')['cosine_avg_sim'].idxmax()\n",
    "].reset_index(drop=True)\n",
    "high_true_reviews['HelpfulBinary'].value_counts()"
   ]
  },
  {
   "cell_type": "code",
   "execution_count": 37,
   "id": "c344ade6-028d-4c20-9a5f-4918026de2dc",
   "metadata": {},
   "outputs": [
    {
     "name": "stdout",
     "output_type": "stream",
     "text": [
      "HelpfulBinary = 1: 0.8519388954171563\n",
      "HelpfulBinary = 0: 0.14806110458284372\n"
     ]
    }
   ],
   "source": [
    "## for most representative review\n",
    "print(\"HelpfulBinary = 1:\", len(high_true_reviews[high_true_reviews['HelpfulBinary'] == 1]) / (len(high_true_reviews[high_true_reviews['HelpfulBinary'] == 0]) + len(high_true_reviews[high_true_reviews['HelpfulBinary'] == 1])))\n",
    "print(\"HelpfulBinary = 0:\", len(high_true_reviews[high_true_reviews['HelpfulBinary'] == 0]) / (len(high_true_reviews[high_true_reviews['HelpfulBinary'] == 0]) + len(high_true_reviews[high_true_reviews['HelpfulBinary'] == 1])))"
   ]
  },
  {
   "cell_type": "code",
   "execution_count": 38,
   "id": "cd6ce75c-3563-4b31-9003-98a60df62d53",
   "metadata": {},
   "outputs": [
    {
     "name": "stdout",
     "output_type": "stream",
     "text": [
      "HelpfulBinary = 1: 0.7540389328504923\n",
      "HelpfulBinary = 0: 0.24596106714950774\n"
     ]
    }
   ],
   "source": [
    "## for all reviews\n",
    "print(\"HelpfulBinary = 1:\", len(df_labeled[df_labeled['HelpfulBinary'] == 1]) / (len(df_labeled[df_labeled['HelpfulBinary'] == 0]) + len(df_labeled[df_labeled['HelpfulBinary'] == 1])))\n",
    "print(\"HelpfulBinary = 0:\", len(df_labeled[df_labeled['HelpfulBinary'] == 0]) / (len(df_labeled[df_labeled['HelpfulBinary'] == 0]) + len(df_labeled[df_labeled['HelpfulBinary'] == 1])))"
   ]
  },
  {
   "cell_type": "markdown",
   "id": "e84ccc97-084d-4497-8242-88b1795b6a92",
   "metadata": {},
   "source": [
    "#### We found most representative reviews are indeed more helpful than normal reviews"
   ]
  },
  {
   "cell_type": "markdown",
   "id": "7370b18f-410e-4c99-bc10-2a0baa77b256",
   "metadata": {},
   "source": [
    "## Predicting Helpfulness for Unlabeled Reviews\n",
    "\n",
    "We use the trained model_svd to predict whether reviews without any helpfulness votes are likely to be helpful. This simulates a real-world setting where feedback hasn't been collected yet.\n",
    "\n",
    "### Are Representative Reviews More Helpful?\n",
    "\n",
    "To verify whether representative reviews are truly more useful, we compare the helpfulness of:\n",
    "- Most representative reviews\n",
    "- All reviews\n",
    "- Random reviews (1 per product)"
   ]
  },
  {
   "cell_type": "code",
   "execution_count": 38,
   "id": "47a8418d",
   "metadata": {},
   "outputs": [],
   "source": [
    "# Predict Helpfulness for Most representative reviews\n",
    "high_rep_reviews = df_unlabeled.loc[\n",
    "    df_unlabeled.groupby('ProductId')['cosine_avg_sim'].idxmax()\n",
    "].reset_index(drop=True)\n",
    "\n",
    "# Make TF-IDF feature\n",
    "X_text_hrep = vectorizer.fit_transform(high_rep_reviews['CleanedText'])\n",
    "\n",
    "# Other numerical value\n",
    "X_extra_hrep = high_rep_reviews[['cosine_avg_sim', 'recency_weight']].values\n",
    "\n",
    "\n",
    "# transform X_extra into sparse\n",
    "X_extra_hrep_sparse = csr_matrix(X_extra_hrep)\n",
    "\n",
    "# merge two sparse matrix\n",
    "X_hrep_sparse_all = hstack([X_text_hrep, X_extra_hrep_sparse])  # all of them are sparse\n",
    "\n",
    "# TruncatedSVD + scaling in pipeline\n",
    "pipeline = make_pipeline(\n",
    "    TruncatedSVD(n_components=100, random_state=42),\n",
    "    StandardScaler()  # optional, if needed by XGBoost\n",
    ")\n",
    "\n",
    "X_hrep_reduced = pipeline.fit_transform(X_hrep_sparse_all)\n",
    "\n",
    "# Predict\n",
    "hrep_pred = model_svd.predict(X_hrep_reduced)\n",
    "high_rep_reviews['PredictedHelpful'] = hrep_pred"
   ]
  },
  {
   "cell_type": "code",
   "execution_count": 43,
   "id": "82c3a11d",
   "metadata": {},
   "outputs": [],
   "source": [
    "# Predict Helpfulness for All Reviews\n",
    "# only predict for all df_unlabeled\n",
    "\n",
    "# Make TF-IDF feature\n",
    "X_text_all = vectorizer.transform(df_unlabeled['CleanedText'].fillna(\"\"))\n",
    "\n",
    "# Other numerical value\n",
    "X_extra_all = df_unlabeled[['cosine_avg_sim', 'recency_weight']].fillna(0).values\n",
    "\n",
    "# Transform X_extra into sparse\n",
    "X_extra_all_sparse = csr_matrix(X_extra_all)\n",
    "\n",
    "# Merge two sparse matrix\n",
    "X_all_sparse = hstack([X_text_all, X_extra_all_sparse])\n",
    "\n",
    "# Apply the same pipeline (TruncatedSVD + Scaling)\n",
    "X_all_reduced = pipeline.fit_transform(X_all_sparse)\n",
    "\n",
    "# Predict\n",
    "all_pred = model_svd.predict(X_all_reduced)\n",
    "df_unlabeled['PredictedHelpful_All'] = all_pred\n"
   ]
  },
  {
   "cell_type": "code",
   "execution_count": 44,
   "id": "0608ebdf",
   "metadata": {},
   "outputs": [
    {
     "name": "stderr",
     "output_type": "stream",
     "text": [
      "/tmp/ipykernel_7111/1196998240.py:7: DeprecationWarning: DataFrameGroupBy.apply operated on the grouping columns. This behavior is deprecated, and in a future version of pandas the grouping columns will be excluded from the operation. Either pass `include_groups=False` to exclude the groupings or explicitly select the grouping columns after groupby to silence this warning.\n",
      "  random_reviews = df_unlabeled.groupby('ProductId').apply(lambda x: x.sample(1, random_state=42)).reset_index(drop=True)\n"
     ]
    }
   ],
   "source": [
    "# Predict Helpfulness for Random Reviews (1 per Product)\n",
    "#\n",
    "\n",
    "import numpy as np\n",
    "\n",
    "# Randomly sample 1 review per ProductId\n",
    "random_reviews = df_unlabeled.groupby('ProductId').apply(lambda x: x.sample(1, random_state=42)).reset_index(drop=True)\n",
    "\n",
    "# Make TF-IDF feature\n",
    "X_text_random = vectorizer.transform(random_reviews['CleanedText'].fillna(\"\"))\n",
    "\n",
    "# Other numerical value\n",
    "X_extra_random = random_reviews[['cosine_avg_sim', 'recency_weight']].fillna(0).values\n",
    "\n",
    "# Transform X_extra into sparse\n",
    "X_extra_random_sparse = csr_matrix(X_extra_random)\n",
    "\n",
    "# Merge two sparse matrix\n",
    "X_random_sparse = hstack([X_text_random, X_extra_random_sparse])\n",
    "\n",
    "# Apply the same pipeline (TruncatedSVD + Scaling)\n",
    "X_random_reduced = pipeline.fit_transform(X_random_sparse)\n",
    "\n",
    "# Predict\n",
    "random_pred = model_svd.predict(X_random_reduced)\n",
    "random_reviews['PredictedHelpful_Random'] = random_pred\n"
   ]
  },
  {
   "cell_type": "code",
   "execution_count": 45,
   "id": "333cf4c1-a46c-45f0-ab81-7d273011616d",
   "metadata": {},
   "outputs": [
    {
     "name": "stdout",
     "output_type": "stream",
     "text": [
      "               Type of Review  Predicted Helpful Rate\n",
      "0                 All Reviews                0.905235\n",
      "1   Random Review per Product                0.906284\n",
      "2  Most Representative Review                0.914828\n"
     ]
    }
   ],
   "source": [
    "# 📊 Summarize Predicted Helpfulness Rates\n",
    "\n",
    "# calculate predict ratio per group\n",
    "rate_all = df_unlabeled['PredictedHelpful_All'].mean()\n",
    "rate_random = random_reviews['PredictedHelpful_Random'].mean()\n",
    "rate_rep = high_rep_reviews['PredictedHelpful'].mean()\n",
    "\n",
    "# make a DataFrame\n",
    "summary_df = pd.DataFrame({\n",
    "    'Type of Review': ['All Reviews', 'Random Review per Product', 'Most Representative Review'],\n",
    "    'Predicted Helpful Rate': [rate_all, rate_random, rate_rep]\n",
    "})\n",
    "\n",
    "print(summary_df)\n"
   ]
  },
  {
   "cell_type": "code",
   "execution_count": 46,
   "id": "8e47d15a-29ae-439f-b803-3e9285be7dfd",
   "metadata": {},
   "outputs": [
    {
     "name": "stderr",
     "output_type": "stream",
     "text": [
      "/tmp/ipykernel_7111/322214116.py:7: FutureWarning: \n",
      "\n",
      "Passing `palette` without assigning `hue` is deprecated and will be removed in v0.14.0. Assign the `x` variable to `hue` and set `legend=False` for the same effect.\n",
      "\n",
      "  sns.barplot(x='Type of Review', y='Predicted Helpful Rate', data=summary_df, palette=\"viridis\")\n"
     ]
    },
    {
     "data": {
      "image/png": "[encoded data removed]",
      "text/plain": [
       "<Figure size 800x600 with 1 Axes>"
      ]
     },
     "metadata": {},
     "output_type": "display_data"
    }
   ],
   "source": [
    "# Visualize Predicted Helpfulness Rates\n",
    "\n",
    "import seaborn as sns\n",
    "import matplotlib.pyplot as plt\n",
    "\n",
    "plt.figure(figsize=(8, 6))\n",
    "sns.barplot(x='Type of Review', y='Predicted Helpful Rate', data=summary_df, palette=\"viridis\")\n",
    "plt.title('Predicted Helpfulness Rate Across Different Review Types')\n",
    "plt.ylabel('Predicted Helpful Rate')\n",
    "plt.xticks(rotation=15)\n",
    "plt.ylim(0, 1)\n",
    "plt.grid(axis='y')\n",
    "plt.show()\n"
   ]
  },
  {
   "cell_type": "markdown",
   "id": "90315f95-f3a1-40b5-ba27-6b6ac393f38a",
   "metadata": {},
   "source": [
    "### Summary: Are Representative Reviews More Helpful?\n",
    "\n",
    "Most representative reviews achieved the highest predicted helpful rate (91.48%), compared to random reviews (90.63%) and all reviews (90.52%).\n",
    "\n",
    "Although the differences are not extremely large, the trend consistently shows that reviews selected based on higher semantic representativeness are slightly more likely to be helpful.\n",
    "\n",
    "This suggests that the representativeness score, which was based on average cosine similarity and recency weighting, successfully captures meaningful review quality to some extent.  \n",
    "\n",
    "Additionally, it matches with ground truth of data with HelpfulnessBinary, making the conclusion more convincing."
   ]
  },
  {
   "cell_type": "markdown",
   "id": "9385fa43-d8f2-42f8-9c4c-fc526098a9f1",
   "metadata": {},
   "source": [
    "### Future Work\n",
    "\n",
    "- Explore deep learning models (e.g., fine-tuned BERT with numeric fusion).\n",
    "- Incorporate additional metadata (e.g., reviewer reputation or review length).\n",
    "- Extend the analysis to other domains (e.g., app reviews, hotel feedback).\n",
    "- Use AWS SageMaker in-built monitoring tools and AWS SageMaker-built models after we get permission."
   ]
  }
 ],
 "metadata": {
  "kernelspec": {
   "display_name": "Py311",
   "language": "python",
   "name": "py311"
  },
  "language_info": {
   "codemirror_mode": {
    "name": "ipython",
    "version": 3
   },
   "file_extension": ".py",
   "mimetype": "text/x-python",
   "name": "python",
   "nbconvert_exporter": "python",
   "pygments_lexer": "ipython3",
   "version": "3.11.9"
  }
 },
 "nbformat": 4,
 "nbformat_minor": 5
}
